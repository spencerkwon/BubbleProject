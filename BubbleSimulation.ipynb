{
 "cells": [
  {
   "cell_type": "code",
   "execution_count": 118,
   "metadata": {},
   "outputs": [
    {
     "name": "stderr",
     "output_type": "stream",
     "text": [
      "/Users/ykwon/anaconda2/lib/python2.7/site-packages/ipykernel_launcher.py:16: RuntimeWarning: overflow encountered in double_scalars\n",
      "  app.launch_new_instance()\n"
     ]
    },
    {
     "data": {
      "image/png": "[encoded data removed]",
      "text/plain": [
       "<Figure size 432x288 with 1 Axes>"
      ]
     },
     "metadata": {},
     "output_type": "display_data"
    },
    {
     "data": {
      "text/plain": [
       "{'coefs': {'a': array([5.11824154e+02, 2.55472798e+02, 1.27077901e+02, 6.27711223e+01,\n",
       "         3.06181004e+01, 1.46186293e+01, 6.73418405e+00, 2.91536330e+00,\n",
       "         1.12262179e+00, 3.67584315e-01]),\n",
       "  'b': array([0.17584621, 0.52720215, 0.92209937, 1.22887769, 1.38189955,\n",
       "         1.38137071, 1.26581595, 1.0846367 , 0.87737821, 0.63241569]),\n",
       "  'c': array([            inf, 1.18529459e+241, 1.53967178e+120, 5.54918333e+059,\n",
       "         3.33142112e+029, 2.58124819e+014, 7.18505142e+006, 1.19875079e+003,\n",
       "         1.54104645e+001, 1.58103921e+000]),\n",
       "  'prec': array([0.99923462, 0.99923462, 0.99923462, 0.99923462, 0.99923462,\n",
       "         0.99923462, 0.99923462, 0.99923543, 1.00247691, 1.16247691]),\n",
       "  'preczero': 0.999234615593336},\n",
       " 'p': array([0.17584621, 0.52720215, 0.92209937, 1.22887769, 1.38189955,\n",
       "        1.38137071, 1.26581595, 1.08463909, 0.88100909, 0.68403418])}"
      ]
     },
     "execution_count": 118,
     "metadata": {},
     "output_type": "execute_result"
    }
   ],
   "source": [
    "import numpy as np\n",
    "import matplotlib.pyplot as plt\n",
    "import math as math\n",
    "\n",
    "def solveeq (VpT, sigmaepsilon, sigmaV, sigmaS, gamma, theta, Ttot):\n",
    "    precp = np.zeros(Ttot)\n",
    "    b = np.zeros(Ttot)\n",
    "    c = np.zeros(Ttot)\n",
    "    precp[Ttot-1] = 1/VpT\n",
    "    b[Ttot-1] = Ttot/(sigmaepsilon**2) * (Ttot/sigmaepsilon**2 + precp[Ttot-1])**(-1)\n",
    "    c[Ttot-1] = gamma * (Ttot/(sigmaepsilon**2) + precp[Ttot-1])**(-1)\n",
    "    for t in range(1, Ttot):\n",
    "        s = Ttot - t\n",
    "        precp[s-1] = precp[s] - (b[s]/c[s])**2/(sigmaS**2)\n",
    "        b[s-1] = (1+theta)*(s/sigmaepsilon**2) * \\\n",
    "        (((1+theta)**(Ttot-s-1) - b[s])/precp[s] * (b[s]/c[s])**2 * (1/sigmaS**2) + b[s])/\\\n",
    "        (s/sigmaepsilon**2 + precp[s] - (b[s]/c[s])**2/sigmaS**2)\n",
    "        c[s-1] = gamma * (((1+theta)**(Ttot-s-1) - b[s])/precp[s] * (b[s]/c[s])**2 * (1/sigmaS**2) + b[s])**2\\\n",
    "        *((s/sigmaepsilon**2 + precp[s] - (b[s]/c[s])**2/sigmaS**2)**(-1) + (c[s]/b[s])**2 * sigmaS**2)\n",
    "    \n",
    "    preczero = precp[0] - (b[0]/c[0])**2/sigmaS**2\n",
    "    if preczero < 0:\n",
    "        preczero = np.Inf\n",
    "    a = np.exp(np.log(1+theta)*np.arange(Ttot-1, -1, -1)) - b\n",
    "    return {'preczero':preczero, 'b':b ,'c':c, 'a':a, 'prec':precp}\n",
    "\n",
    "def priceplot (sigmaepsilon, sigmaV, sigmaS, gamma, theta, Ttot, maxprec = 300., lengthgrid = 3000, toplot = False):\n",
    "    Vpgrid = np.exp(np.arange(np.log(1/maxprec), np.log(2*sigmaV**2),\\\n",
    "                              (np.log(2*sigmaV**2)-np.log(1/maxprec))/lengthgrid))\n",
    "    netout = np.zeros(len(Vpgrid))\n",
    "\n",
    "    for k in range(0, len(Vpgrid)):\n",
    "        temp = solveeq(Vpgrid[k], sigmaepsilon, sigmaV, sigmaS, gamma, theta, Ttot)\n",
    "        netout[k] = temp['preczero']\n",
    "        \n",
    "    tempind = np.argmin(abs(netout - 1/sigmaV**2))\n",
    "    finalVp = Vpgrid[tempind]\n",
    "    coefV = solveeq(finalVp, sigmaepsilon, sigmaV, sigmaS, gamma, theta, Ttot)\n",
    "    p = np.zeros(Ttot)\n",
    "    E = np.zeros(Ttot)\n",
    "    S = np.zeros(Ttot)\n",
    "    # compute price path for zero shock\n",
    "\n",
    "    for t in range(0, Ttot):\n",
    "        E[t] = 1/sigmaS**2*sum((coefV['b'][0:(t+1)]/coefV['c'][0:(t+1)])**2) * 1/coefV['prec'][t]\n",
    "        p[t] = coefV['a'][t] * E[t] + coefV['b'][t] \n",
    "    if toplot:\n",
    "        plt.plot(np.arange(1, Ttot+1), p, 'r-')\n",
    "        plt.axis([0, Ttot+1, 0, max(1.2*max(p), 1.2)])\n",
    "        plt.axhline(y=1, color='black', linestyle='-')\n",
    "        plt.show()\n",
    "    return({'coefs': coefV, 'p': p})\n",
    "\n",
    "sigmaepsilon = np.sqrt(5)\n",
    "sigmaV = 1.\n",
    "sigmaS = 1.\n",
    "gamma = 5.\n",
    "theta = 1\n",
    "Ttot = 10\n",
    "priceplot(sigmaepsilon, sigmaV, sigmaS, gamma, theta, Ttot, maxprec = 1000., lengthgrid = 5000, toplot = True)"
   ]
  },
  {
   "cell_type": "code",
   "execution_count": 99,
   "metadata": {},
   "outputs": [
    {
     "data": {
      "text/plain": [
       "array([0.00333333, 0.00458972, 0.00631966, 0.00870165, 0.01198144,\n",
       "       0.01649744, 0.0227156 , 0.03127747, 0.04306647, 0.05929892,\n",
       "       0.08164966, 0.11242475, 0.15479948, 0.21314594, 0.29348413,\n",
       "       0.4041031 , 0.55641617, 0.76613854, 1.05490869, 1.45252104])"
      ]
     },
     "execution_count": 99,
     "metadata": {},
     "output_type": "execute_result"
    }
   ],
   "source": [
    "theta = 0.5\n",
    "b = np.arange(1, 11)\n",
    "c = np.arange(1, 11)\n",
    "precp = np.arange(1, 11)\n",
    "s = 4\n",
    "sigmaepsilon = np.sqrt(5)\n",
    "sigmaV = 1.\n",
    "sigmaS = 1.\n",
    "gamma = 0.5\n",
    "theta = 0\n",
    "Ttot = 10\n",
    "maxprec = 300.\n",
    "lengthgrid = 20\n",
    "Vpgrid = np.exp(np.arange(np.log(1/maxprec), np.log(2*sigmaV**2),\\\n",
    "                              (np.log(2*sigmaV**2)-np.log(1/maxprec))/lengthgrid))\n",
    "len(Vpgrid)\n",
    "Vpgrid"
   ]
  },
  {
   "cell_type": "code",
   "execution_count": null,
   "metadata": {},
   "outputs": [],
   "source": []
  },
  {
   "cell_type": "code",
   "execution_count": 36,
   "metadata": {},
   "outputs": [
    {
     "ename": "SyntaxError",
     "evalue": "invalid syntax (<ipython-input-36-c57f2bae5c76>, line 4)",
     "output_type": "error",
     "traceback": [
      "\u001b[0;36m  File \u001b[0;32m\"<ipython-input-36-c57f2bae5c76>\"\u001b[0;36m, line \u001b[0;32m4\u001b[0m\n\u001b[0;31m    def method.3 (VpT, sigma.epsilon, sigma.V, sigma.S, gamma, theta, Ttot):\u001b[0m\n\u001b[0m               ^\u001b[0m\n\u001b[0;31mSyntaxError\u001b[0m\u001b[0;31m:\u001b[0m invalid syntax\n"
     ]
    }
   ],
   "source": [
    "import numpy as np\n",
    "import matplotlib.pyplot as plt\n",
    "\n",
    "def method.3 (VpT, sigma.epsilon, sigma.V, sigma.S, gamma, theta, Ttot):\n",
    "    precp = [0]*Ttot\n",
    "    b = [0]*Ttot\n",
    "    c = [0]*Ttot\n",
    "    precp[Ttot-1] = 1/VpT\n",
    "    b[Ttot-1] = Ttot/sigma.epsilon**2 * (Ttot/sigma.epsilo**2 + prec.p[Ttot])^(-1)\n",
    "    c[Ttot-1] = gamma * (Ttot/sigma.epsilon^2 + prec.p[Ttot])^(-1)\n",
    "    return b\n",
    "\n",
    "  \n",
    "    prec.p[t] = prec.p[t+1] - (b[t+1]/c[t+1])^2/sigma.S^2\n",
    "    b[t] = (1+theta)*(t/sigma.epsilon^2) *\n",
    "      (((1+theta)^(Ttot - t - 1) - b[t+1])/prec.p[t+1]*(b[t+1]/c[t+1])^2*(1/sigma.S^2) + b[t+1])/\n",
    "      (t/sigma.epsilon^2 + prec.p[t+1] - (b[t+1]/c[t+1])^2/sigma.S^2)\n",
    "    c[t] = gamma* (((1+theta)^(Ttot - t - 1) - b[t+1])/prec.p[t+1]*(b[t+1]/c[t+1])^2*(1/sigma.S^2) + b[t+1])^2 *\n",
    "      ((t/sigma.epsilon^2 + prec.p[t+1] - (b[t+1]/c[t+1])^2/sigma.S^2)^(-1) + (c[t+1]/b[t+1])^2*sigma.S^2)\n",
    "  }\n",
    "\n",
    "  if (preczero < 0){\n",
    "    preczero = Inf\n",
    "  }\n",
    "  return(list(preczero = preczero, b = b, c = c, precV = prec.p, a = exp(log(1+theta)*((Ttot-1):0)) - b))\n",
    "}\n",
    "price.plot = function(sigma.epsilon, sigma.V, sigma.S, gamma, theta, Ttot, maxprec = 300, lengthgrid = 3000){\n",
    "  Vpgrid = seq(from = log(1/maxprec), to = log(2*sigma.V^2), length.out = lengthgrid)\n",
    "  Vpgrid = exp(Vpgrid)\n",
    "  net.out = rep(NA, length(Vpgrid))\n",
    "  for (k in 1:length(Vpgrid)){\n",
    "    temp.out = method.3(Vpgrid[k], sigma.epsilon, sigma.V, sigma.S, gamma, theta, Ttot)\n",
    "    net.out[k] = temp.out$preczero\n",
    "  }\n",
    "  temp.ind = which.min(abs(net.out - 1/sigma.V^2))\n",
    "  final.Vp = Vpgrid[temp.ind]\n",
    "  coef.V = method.3(final.Vp, sigma.epsilon, sigma.V, sigma.S, gamma, theta, Ttot)\n",
    "  # compute price path for zero shock\n",
    "  p = rep(NA, Ttot)\n",
    "  E = rep(NA, Ttot)\n",
    "  S = rep(0, Ttot)#rnorm(Ttot, sd = sigma.S)\n",
    "  for (t in 1:Ttot){\n",
    "    E[t] = 1/sigma.S^2*sum((coef.V$b[1:t]/coef.V$c[1:t])^2) * 1/coef.V$precV[t]\n",
    "    p[t] = coef.V$a[t] * E[t] + coef.V$b[t] \n",
    "  }\n",
    "  p = c(0, p)\n",
    "  \n",
    "  return(list(coefs = coef.V, p = p))\n",
    "}\n",
    "sigma.epsilon = sqrt(5)\n",
    "sigma.V = 1\n",
    "sigma.S = 1\n",
    "gamma = 0.5\n",
    "theta = 1\n",
    "T.list = 15:6\n",
    "Ttot = 16\n",
    "p1 = price.plot(sigma.epsilon, sigma.V, sigma.S, gamma, theta, Ttot, maxprec = 100000, lengthgrid = 10000)\n",
    "plot(p1$p, type = \"l\")\n",
    "print(p1$coefs$preczero)\n",
    "for (t in 1:length(T.list)){\n",
    "  Ttot = T.list[t]\n",
    "  p1 = price.plot(sigma.epsilon, sigma.V, sigma.S, gamma, theta, Ttot, maxprec = 100000, lengthgrid = 10000)\n",
    "  aug.p = c(p1$p, rep(NA, max(T.list)+1 - length(p1)))\n",
    "  lines(aug.p)\n",
    "  print(p1$coefs$preczero)\n",
    "}\n",
    "\n",
    "# theta going from 0 to 2\n",
    "# sigma.epsilon ranges from....0.1 to 10\n",
    "# gamma= 0.5 .... 0.1 to 10\n",
    "# T = 3\n",
    "\n",
    "# simulating volume\n",
    "# uncertainty of prices comes from overlapping information.\n",
    "\n",
    "sigma.epsilon = sqrt(5)\n",
    "sigma.V = 1\n",
    "sigma.S = 1\n",
    "gamma = 0.5\n",
    "theta = 1\n",
    "Ttot = 10\n",
    "p1 = price.plot(sigma.epsilon, sigma.V, sigma.S, gamma, theta, Ttot, maxprec = 100000, lengthgrid = 10000)\n",
    "\n",
    "sigma.epsilon = sqrt(5)\n",
    "sigma.V = 1\n",
    "sigma.S = 1\n",
    "gamma = 0.5\n",
    "theta = 0\n",
    "Ttot = 10\n",
    "p2 = price.plot(sigma.epsilon, sigma.V, sigma.S, gamma, theta, Ttot, maxprec = 100000, lengthgrid = 10000)"
   ]
  },
  {
   "cell_type": "code",
   "execution_count": 3,
   "metadata": {},
   "outputs": [
    {
     "name": "stdout",
     "output_type": "stream",
     "text": [
      "1\n"
     ]
    }
   ],
   "source": []
  },
  {
   "cell_type": "code",
   "execution_count": 4,
   "metadata": {},
   "outputs": [
    {
     "ename": "NameError",
     "evalue": "name 'plot' is not defined",
     "output_type": "error",
     "traceback": [
      "\u001b[0;31m---------------------------------------------------------------------------\u001b[0m",
      "\u001b[0;31mNameError\u001b[0m                                 Traceback (most recent call last)",
      "\u001b[0;32m<ipython-input-4-3ab0670b41d6>\u001b[0m in \u001b[0;36m<module>\u001b[0;34m()\u001b[0m\n\u001b[0;32m----> 1\u001b[0;31m \u001b[0mplot\u001b[0m\u001b[0;34m(\u001b[0m\u001b[0my\u001b[0m\u001b[0;34m)\u001b[0m\u001b[0;34m\u001b[0m\u001b[0m\n\u001b[0m",
      "\u001b[0;31mNameError\u001b[0m: name 'plot' is not defined"
     ]
    }
   ],
   "source": [
    "plot(y)"
   ]
  },
  {
   "cell_type": "code",
   "execution_count": null,
   "metadata": {},
   "outputs": [],
   "source": []
  }
 ],
 "metadata": {
  "kernelspec": {
   "display_name": "Python 2",
   "language": "python",
   "name": "python2"
  },
  "language_info": {
   "codemirror_mode": {
    "name": "ipython",
    "version": 2
   },
   "file_extension": ".py",
   "mimetype": "text/x-python",
   "name": "python",
   "nbconvert_exporter": "python",
   "pygments_lexer": "ipython2",
   "version": "2.7.15"
  }
 },
 "nbformat": 4,
 "nbformat_minor": 2
}
